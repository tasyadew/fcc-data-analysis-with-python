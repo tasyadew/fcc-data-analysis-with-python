{
 "cells": [
  {
   "cell_type": "markdown",
   "metadata": {},
   "source": [
    "# Demographic Data Analyzer\n",
    "In this challenge you must analyze demographic data using Pandas. You are given a dataset of demographic data that was extracted from the 1994 Census database.\n",
    "\n",
    "[link to freeCodeCamp project](https://www.freecodecamp.org/learn/data-analysis-with-python/data-analysis-with-python-projects/demographic-data-analyzer)\n",
    "\n",
    "[link to Replit](https://replit.com/@tasyadew/boilerplate-demographic-data-analyzer#demographic_data_analyzer.py)"
   ]
  },
  {
   "cell_type": "markdown",
   "metadata": {},
   "source": [
    "## demographic_data_analyzer.py"
   ]
  },
  {
   "cell_type": "markdown",
   "metadata": {},
   "source": [
    "Read the csv file"
   ]
  },
  {
   "cell_type": "code",
   "execution_count": 2,
   "metadata": {},
   "outputs": [
    {
     "name": "stdout",
     "output_type": "stream",
     "text": [
      "   age         workclass  fnlwgt  education  education-num  \\\n",
      "0   39         State-gov   77516  Bachelors             13   \n",
      "1   50  Self-emp-not-inc   83311  Bachelors             13   \n",
      "2   38           Private  215646    HS-grad              9   \n",
      "3   53           Private  234721       11th              7   \n",
      "4   28           Private  338409  Bachelors             13   \n",
      "\n",
      "       marital-status         occupation   relationship   race     sex  \\\n",
      "0       Never-married       Adm-clerical  Not-in-family  White    Male   \n",
      "1  Married-civ-spouse    Exec-managerial        Husband  White    Male   \n",
      "2            Divorced  Handlers-cleaners  Not-in-family  White    Male   \n",
      "3  Married-civ-spouse  Handlers-cleaners        Husband  Black    Male   \n",
      "4  Married-civ-spouse     Prof-specialty           Wife  Black  Female   \n",
      "\n",
      "   capital-gain  capital-loss  hours-per-week native-country salary  \n",
      "0          2174             0              40  United-States  <=50K  \n",
      "1             0             0              13  United-States  <=50K  \n",
      "2             0             0              40  United-States  <=50K  \n",
      "3             0             0              40  United-States  <=50K  \n",
      "4             0             0              40           Cuba  <=50K  \n"
     ]
    }
   ],
   "source": [
    "import pandas as pd\n",
    "\n",
    "\n",
    "file_path = 'adult.data.csv'\n",
    "data = pd.read_csv(file_path)\n",
    "df = pd.DataFrame(data)\n",
    "\n",
    "print(df.head())\n"
   ]
  },
  {
   "cell_type": "code",
   "execution_count": 3,
   "metadata": {},
   "outputs": [
    {
     "name": "stdout",
     "output_type": "stream",
     "text": [
      "race\n",
      "White                 27816\n",
      "Black                  3124\n",
      "Asian-Pac-Islander     1039\n",
      "Amer-Indian-Eskimo      311\n",
      "Other                   271\n",
      "Name: count, dtype: int64\n"
     ]
    }
   ],
   "source": [
    "# How many of each race are represented in this dataset? This should be a Pandas series with race names as the index labels.\n",
    "race_count = df['race'].value_counts()\n",
    "\n",
    "print(race_count)"
   ]
  },
  {
   "cell_type": "code",
   "execution_count": 87,
   "metadata": {},
   "outputs": [
    {
     "name": "stdout",
     "output_type": "stream",
     "text": [
      "39.43354749885268\n"
     ]
    }
   ],
   "source": [
    "# What is the average age of men?\n",
    "average_age_men = df['age'][df['sex'] == 'Male'].mean()\n",
    "\n",
    "print(average_age_men)"
   ]
  },
  {
   "cell_type": "code",
   "execution_count": 25,
   "metadata": {},
   "outputs": [
    {
     "name": "stdout",
     "output_type": "stream",
     "text": [
      "bacelors total: 5355\n",
      "all total: 32561\n",
      "percentage: 16.44605509658794\n"
     ]
    }
   ],
   "source": [
    "# What is the percentage of people who have a Bachelor's degree?\n",
    "bachelors_total = (df['education'] == 'Bachelors').sum() \n",
    "all_total = len(df['education'])\n",
    "percentage_bachelors = (bachelors_total / all_total) * 100\n",
    "\n",
    "print('bacelors total:', bachelors_total)\n",
    "print('all total:', all_total)\n",
    "print('percentage:', percentage_bachelors)"
   ]
  },
  {
   "cell_type": "code",
   "execution_count": 43,
   "metadata": {},
   "outputs": [
    {
     "name": "stdout",
     "output_type": "stream",
     "text": [
      "higher education: education\n",
      "False    25070\n",
      "True      7491\n",
      "Name: count, dtype: int64 salary\n",
      "False    4005\n",
      "True     3486\n",
      "Name: count, dtype: int64\n",
      "lower education: education\n",
      "True     25070\n",
      "False     7491\n",
      "Name: count, dtype: int64 salary\n",
      "False    20715\n",
      "True      4355\n",
      "Name: count, dtype: int64\n",
      "higher education rich: 46.535843011613935\n",
      "lower education rich: 17.3713601914639\n",
      "46.535843011613935\n",
      "17.3713601914639\n"
     ]
    }
   ],
   "source": [
    "# What percentage of people with advanced education (`Bachelors`, `Masters`, or `Doctorate`) make more than 50K?\n",
    "# What percentage of people without advanced education make more than 50K?\n",
    "# with and without `Bachelors`, `Masters`, or `Doctorate`\n",
    "\n",
    "list = ['Bachelors', 'Masters', 'Doctorate' ]\n",
    "\n",
    "higher_education = df['education'].isin(list)\n",
    "lower_education = ~higher_education\n",
    "\n",
    "# percentage with salary >50K\n",
    "higher_education_rich = (df[higher_education]['salary'] == '>50K').mean() * 100\n",
    "lower_education_rich = (df[lower_education]['salary'] == '>50K').mean() * 100\n",
    "\n",
    "# all vs >50k\n",
    "print('higher education:', higher_education.value_counts(), (df[higher_education]['salary'] == '>50K').value_counts())\n",
    "print('lower education:', lower_education.value_counts(), (df[lower_education]['salary'] == '>50K').value_counts())\n",
    "\n",
    "print('higher education rich:', higher_education_rich)\n",
    "print('lower education rich:', lower_education_rich)    "
   ]
  },
  {
   "cell_type": "code",
   "execution_count": 45,
   "metadata": {},
   "outputs": [
    {
     "name": "stdout",
     "output_type": "stream",
     "text": [
      "1\n"
     ]
    }
   ],
   "source": [
    "# What is the minimum number of hours a person works per week (hours-per-week feature)?\n",
    "min_work_hours = df['hours-per-week'].min()\n",
    "\n",
    "print(min_work_hours)"
   ]
  },
  {
   "cell_type": "code",
   "execution_count": 97,
   "metadata": {},
   "outputs": [
    {
     "name": "stdout",
     "output_type": "stream",
     "text": [
      "min_hours_workers: 20\n",
      "min_hours_rich: 2\n",
      "rich_percentage: 10.0\n"
     ]
    }
   ],
   "source": [
    "# What percentage of the people who work the minimum number of hours per week have a salary of >50K?\n",
    "\n",
    "#calculation here\n",
    "\n",
    "# minimum hours == 1\n",
    "# need to find how many people work 1 hour per week\n",
    "\n",
    "min_hours_workers = df[(df['hours-per-week'] == min_work_hours)]['salary'].value_counts().sum()\n",
    "\n",
    "# so, 20 people only work for 1 hour per week\n",
    "# now, how to find which of those people make >50k?\n",
    "\n",
    "min_hours_rich = df[(df['hours-per-week'] == min_work_hours) & (df['salary'] == '>50K')]['salary'].value_counts().sum()\n",
    "\n",
    "# so, 2 of those 20 people make >50k\n",
    "\n",
    "#this is for output\n",
    "rich_percentage = min_hours_rich / min_hours_workers * 100\n",
    "\n",
    "print('min_hours_workers:', min_hours_workers)\n",
    "print('min_hours_rich:', min_hours_rich)\n",
    "print('rich_percentage:', rich_percentage)"
   ]
  },
  {
   "cell_type": "code",
   "execution_count": 106,
   "metadata": {},
   "outputs": [
    {
     "name": "stdout",
     "output_type": "stream",
     "text": [
      "native-country\n",
      "?                             25.042882\n",
      "Cambodia                      36.842105\n",
      "Canada                        32.231405\n",
      "China                         26.666667\n",
      "Columbia                       3.389831\n",
      "Cuba                          26.315789\n",
      "Dominican-Republic             2.857143\n",
      "Ecuador                       14.285714\n",
      "El-Salvador                    8.490566\n",
      "England                       33.333333\n",
      "France                        41.379310\n",
      "Germany                       32.116788\n",
      "Greece                        27.586207\n",
      "Guatemala                      4.687500\n",
      "Haiti                          9.090909\n",
      "Holand-Netherlands                  NaN\n",
      "Honduras                       7.692308\n",
      "Hong                          30.000000\n",
      "Hungary                       23.076923\n",
      "India                         40.000000\n",
      "Iran                          41.860465\n",
      "Ireland                       20.833333\n",
      "Italy                         34.246575\n",
      "Jamaica                       12.345679\n",
      "Japan                         38.709677\n",
      "Laos                          11.111111\n",
      "Mexico                         5.132193\n",
      "Nicaragua                      5.882353\n",
      "Outlying-US(Guam-USVI-etc)          NaN\n",
      "Peru                           6.451613\n",
      "Philippines                   30.808081\n",
      "Poland                        20.000000\n",
      "Portugal                      10.810811\n",
      "Puerto-Rico                   10.526316\n",
      "Scotland                      25.000000\n",
      "South                         20.000000\n",
      "Taiwan                        39.215686\n",
      "Thailand                      16.666667\n",
      "Trinadad&Tobago               10.526316\n",
      "United-States                 24.583476\n",
      "Vietnam                        7.462687\n",
      "Yugoslavia                    37.500000\n",
      "Name: percentage_rich, dtype: float64\n",
      "highest_earning_country: Iran\n",
      "highest_earning_country_percentage: 41.86046511627907\n"
     ]
    }
   ],
   "source": [
    "# What country has the highest percentage of people that earn >50K?\n",
    "\n",
    "# the percentage is by country... need to seperate by country so it will not affect top earner with less population\n",
    "group_country_rich = df.groupby(['native-country', 'salary']).size().reset_index(name='count')\n",
    "\n",
    "group_country_pivot = group_country_rich.pivot(index='native-country', columns='salary', values='count')\n",
    "\n",
    "group_country_pivot['percentage_rich'] = (group_country_pivot['>50K'] / (group_country_pivot['>50K'] + group_country_pivot['<=50K'])) * 100\n",
    "\n",
    "\n",
    "# output here\n",
    "highest_earning_country = group_country_pivot['percentage_rich'].idxmax()\n",
    "highest_earning_country_percentage = group_country_pivot['percentage_rich'].max()\n",
    "\n",
    "print(group_country_pivot['percentage_rich'])\n",
    "print('highest_earning_country:', highest_earning_country)\n",
    "print('highest_earning_country_percentage:', highest_earning_country_percentage)\n"
   ]
  },
  {
   "cell_type": "code",
   "execution_count": 84,
   "metadata": {},
   "outputs": [
    {
     "name": "stdout",
     "output_type": "stream",
     "text": [
      "india_rich: occupation\n",
      "Prof-specialty      25\n",
      "Exec-managerial      8\n",
      "Other-service        2\n",
      "Tech-support         2\n",
      "Transport-moving     1\n",
      "Sales                1\n",
      "Adm-clerical         1\n",
      "Name: count, dtype: int64\n",
      "top_IN_occupation: Prof-specialty\n"
     ]
    }
   ],
   "source": [
    "# Identify the most popular occupation for those who earn >50K in India.\n",
    "\n",
    "# native-country: india\n",
    "# salary: >50k \n",
    "# top occupation\n",
    "\n",
    "india_rich = df[(df['native-country'] == 'India') & (df['salary'] == '>50K')]['occupation'].value_counts()\n",
    "top_IN_occupation = india_rich.idxmax()\n",
    "\n",
    "print('india_rich:', india_rich)\n",
    "print('top_IN_occupation:', top_IN_occupation)"
   ]
  }
 ],
 "metadata": {
  "kernelspec": {
   "display_name": "data-analysis",
   "language": "python",
   "name": "python3"
  },
  "language_info": {
   "codemirror_mode": {
    "name": "ipython",
    "version": 3
   },
   "file_extension": ".py",
   "mimetype": "text/x-python",
   "name": "python",
   "nbconvert_exporter": "python",
   "pygments_lexer": "ipython3",
   "version": "3.11.3"
  }
 },
 "nbformat": 4,
 "nbformat_minor": 2
}
